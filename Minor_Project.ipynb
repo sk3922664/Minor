{
 "cells": [
  {
   "cell_type": "code",
   "execution_count": 1,
   "metadata": {},
   "outputs": [],
   "source": [
    "import tensorflow as tf\n",
    "import numpy as np\n",
    "import pandas as pd\n",
    "from tensorflow.keras.preprocessing.image import ImageDataGenerator, load_img, img_to_array\n",
    "import os\n",
    "from sklearn.model_selection import train_test_split"
   ]
  },
  {
   "cell_type": "code",
   "execution_count": 3,
   "metadata": {},
   "outputs": [],
   "source": [
    "class PatchEncoder(tf.keras.layers.Layer):\n",
    "    def __init__(self, no_of_patches, hidden_size):\n",
    "        super(PatchEncoder, self).__init__(name= \"patch_encoder\")\n",
    "        self.no_of_patches=no_of_patches\n",
    "        self.linear_projection= tf.keras.layers.Dense(hidden_size)\n",
    "        self.positonal_embedding= tf.keras.layers.Embedding(no_of_patches,hidden_size)\n",
    "    \n",
    "    def call(self, img):\n",
    "        patches=tf.image.extract_patches(images=img,\n",
    "                                 sizes=[1,16,16,1],\n",
    "                                 strides=[1,16,16,1],\n",
    "                                 rates=[1,1,1,1],\n",
    "                                 padding='VALID')\n",
    "                                 \n",
    "        patches=tf.reshape(patches,(tf.shape(patches)[0],-1,patches.shape[-1]))\n",
    "        embedding_input=tf.range(0,self.no_of_patches,1)\n",
    "        ans=self.linear_projection(patches)+self.positonal_embedding(embedding_input)\n",
    "        return ans"
   ]
  },
  {
   "cell_type": "code",
   "execution_count": 4,
   "metadata": {},
   "outputs": [],
   "source": [
    "class TransformerEncoder(tf.keras.layers.Layer):\n",
    "    def __init__(self, no_of_heads, hidden_size):\n",
    "        super(TransformerEncoder, self).__init__(name= \"transformer_encoder\")\n",
    "        self.layer_norm= tf.keras.layers.LayerNormalization()\n",
    "        self.multi_head_attention=tf.keras.layers.MultiHeadAttention(no_of_heads,hidden_size)\n",
    "        self.denselayer=tf.keras.layers.Dense(hidden_size, activation='gelu')\n",
    "    \n",
    "    def call(self, img):\n",
    "        x_1=self.layer_norm(img)\n",
    "        x_1=self.multi_head_attention(x_1,x_1)\n",
    "        x_1=tf.keras.layers.Add()([x_1,img])\n",
    "\n",
    "        x_2=self.layer_norm(x_1)\n",
    "        x_2=self.denselayer(x_2)\n",
    "        ans=self.denselayer(x_2)\n",
    "        ans=tf.keras.layers.Add()([ans,x_1])\n",
    "\n",
    "        return ans"
   ]
  },
  {
   "cell_type": "code",
   "execution_count": 5,
   "metadata": {},
   "outputs": [],
   "source": [
    "class VisT(tf.keras.Model):\n",
    "    def __init__(self, no_of_heads, hidden_size, no_of_patches, no_of_layers,no_of_dense_units):\n",
    "        super(VisT,self).__init__(name= 'vision_transformer')\n",
    "        self.no_of_layers=no_of_layers\n",
    "        self.patch_encoder=PatchEncoder(no_of_patches,hidden_size)\n",
    "        self.transformer_encoder=[TransformerEncoder(no_of_heads, hidden_size) for _ in range(no_of_layers)]\n",
    "        self.densel=tf.keras.layers.Dense(no_of_dense_units, \"gelu\")\n",
    "        self.densel2=tf.keras.layers.Dense(64, \"gelu\")\n",
    "        self.densel3=tf.keras.layers.Dense(32, \"gelu\")\n",
    "        self.denselO=tf.keras.layers.Dense(10, \"softmax\")\n",
    "    \n",
    "    def call(self, data, training=True):\n",
    "        if isinstance(data, tuple):\n",
    "            img, _ = data  # Extract only the images from the generator output\n",
    "        else:\n",
    "            img = data\n",
    "\n",
    "        # Ensure the correct shape of the input tensor\n",
    "        img = tf.image.resize(img, (256, 256))  # Resize the image to match the expected size\n",
    "        img = tf.reshape(img, (tf.shape(img)[0], 256, 256, 3))  # Explicitly reshape to (batch_size, height, width, channels)\n",
    "\n",
    "        inp = self.patch_encoder(img)\n",
    "\n",
    "        for i in range(self.no_of_layers):\n",
    "            inp = self.transformer_encoder[i](inp)\n",
    "\n",
    "        inp = tf.keras.layers.Flatten()(inp)\n",
    "        inp = self.densel(inp)\n",
    "        inp = self.densel2(inp)\n",
    "        inp = self.densel3(inp)\n",
    "        return self.denselO(inp)"
   ]
  },
  {
   "cell_type": "code",
   "execution_count": 6,
   "metadata": {},
   "outputs": [],
   "source": [
    "path = 'test_Minor'\n",
    "size = [256, 256]\n",
    "classes = ['Alluvial Soil', 'Black Soil', 'Clay Soil',\"Red Soil\"]"
   ]
  },
  {
   "cell_type": "code",
   "execution_count": 7,
   "metadata": {},
   "outputs": [],
   "source": [
    "all_images = []\n",
    "all_labels = []\n",
    "\n",
    "for class_index, class_name in enumerate(classes):\n",
    "    class_path = os.path.join(path, class_name)\n",
    "    for filename in os.listdir(class_path):\n",
    "        img_path = os.path.join(class_path, filename)\n",
    "        all_images.append(img_path)\n",
    "        all_labels.append(class_index)"
   ]
  },
  {
   "cell_type": "code",
   "execution_count": 8,
   "metadata": {},
   "outputs": [],
   "source": [
    "train_images, test_images, train_labels, test_labels = train_test_split(\n",
    "    all_images, all_labels, test_size=0.5, random_state=12\n",
    ")"
   ]
  },
  {
   "cell_type": "code",
   "execution_count": 9,
   "metadata": {},
   "outputs": [],
   "source": [
    "datagen_training_augmentation = ImageDataGenerator(\n",
    "    shear_range=0.2,\n",
    "    horizontal_flip=True,\n",
    "    rotation_range=60\n",
    ")"
   ]
  },
  {
   "cell_type": "code",
   "execution_count": 10,
   "metadata": {},
   "outputs": [
    {
     "name": "stdout",
     "output_type": "stream",
     "text": [
      "W 0\n",
      "W 1\n",
      "W 2\n",
      "W 3\n",
      "W 4\n"
     ]
    }
   ],
   "source": [
    "augmented_images = []\n",
    "augmented_labels = []\n",
    "\n",
    "for i in range(5):  \n",
    "    for img_path, label in zip(train_images, train_labels):\n",
    "        rotation_angle = np.random.uniform(-60, 60)  \n",
    "        img = load_img(img_path, target_size=size)\n",
    "        img_array = img_to_array(img)\n",
    "        img_array = datagen_training_augmentation.apply_transform(img_array, {'theta': rotation_angle})\n",
    "        augmented_images.append(img_array)\n",
    "        augmented_labels.append(label)\n",
    "    print(\"W\",i)"
   ]
  },
  {
   "cell_type": "code",
   "execution_count": 11,
   "metadata": {},
   "outputs": [],
   "source": [
    "train_images1 = np.array(augmented_images[0:int(len(augmented_images)*0.35)])\n",
    "train_labels1 = np.array(augmented_labels[0:int(len(augmented_images)*0.35)])\n",
    "augmented_images=augmented_images[int(len(augmented_images)*0.35):]\n",
    "augmented_labels=augmented_labels[int(len(augmented_labels)*0.35):]\n",
    "augmented_images = np.array(augmented_images)\n",
    "augmented_labels = np.array(augmented_labels)"
   ]
  },
  {
   "cell_type": "code",
   "execution_count": 12,
   "metadata": {},
   "outputs": [],
   "source": [
    "train_images2, valid_images, train_labels2, valid_labels = train_test_split(\n",
    "    augmented_images, augmented_labels, test_size=0.47, random_state=42\n",
    ")"
   ]
  },
  {
   "cell_type": "code",
   "execution_count": 13,
   "metadata": {},
   "outputs": [],
   "source": [
    "del augmented_images\n",
    "del augmented_labels"
   ]
  },
  {
   "cell_type": "code",
   "execution_count": 14,
   "metadata": {},
   "outputs": [],
   "source": [
    "valid_images1, valid_images2, valid_labels1, valid_labels2=train_test_split(\n",
    "    valid_images, valid_labels, test_size=0.5, random_state=42\n",
    ")"
   ]
  },
  {
   "cell_type": "code",
   "execution_count": 15,
   "metadata": {},
   "outputs": [],
   "source": [
    "vit = VisT(2, 256, 256, 2, 64)\n",
    "vit.compile(optimizer=\"Adam\", loss=tf.keras.losses.SparseCategoricalCrossentropy(), metrics=[\"accuracy\"])"
   ]
  },
  {
   "cell_type": "code",
   "execution_count": 16,
   "metadata": {},
   "outputs": [
    {
     "name": "stdout",
     "output_type": "stream",
     "text": [
      "Epoch 1 / 20 ------->\n",
      "\u001b[1m11/11\u001b[0m \u001b[32m━━━━━━━━━━━━━━━━━━━━\u001b[0m\u001b[37m\u001b[0m \u001b[1m23s\u001b[0m 1s/step - accuracy: 0.1375 - loss: 2184.1895 - val_accuracy: 0.2340 - val_loss: 3127.8169\n",
      "Epoch 2 / 20 ------->\n",
      "\u001b[1m10/10\u001b[0m \u001b[32m━━━━━━━━━━━━━━━━━━━━\u001b[0m\u001b[37m\u001b[0m \u001b[1m11s\u001b[0m 1s/step - accuracy: 0.2381 - loss: 2648.7144 - val_accuracy: 0.1773 - val_loss: 1656.5527\n",
      "Epoch 3 / 20 ------->\n",
      "\u001b[1m11/11\u001b[0m \u001b[32m━━━━━━━━━━━━━━━━━━━━\u001b[0m\u001b[37m\u001b[0m \u001b[1m11s\u001b[0m 976ms/step - accuracy: 0.3941 - loss: 832.0443 - val_accuracy: 0.3830 - val_loss: 777.6070\n",
      "Epoch 4 / 20 ------->\n",
      "\u001b[1m10/10\u001b[0m \u001b[32m━━━━━━━━━━━━━━━━━━━━\u001b[0m\u001b[37m\u001b[0m \u001b[1m10s\u001b[0m 1s/step - accuracy: 0.3718 - loss: 724.0917 - val_accuracy: 0.5816 - val_loss: 286.8461\n",
      "Epoch 5 / 20 ------->\n",
      "\u001b[1m11/11\u001b[0m \u001b[32m━━━━━━━━━━━━━━━━━━━━\u001b[0m\u001b[37m\u001b[0m \u001b[1m11s\u001b[0m 957ms/step - accuracy: 0.5399 - loss: 257.2881 - val_accuracy: 0.5674 - val_loss: 225.6922\n",
      "Epoch 6 / 20 ------->\n",
      "\u001b[1m10/10\u001b[0m \u001b[32m━━━━━━━━━━━━━━━━━━━━\u001b[0m\u001b[37m\u001b[0m \u001b[1m10s\u001b[0m 1s/step - accuracy: 0.5490 - loss: 154.6302 - val_accuracy: 0.4752 - val_loss: 67.7217\n",
      "Epoch 7 / 20 ------->\n",
      "\u001b[1m11/11\u001b[0m \u001b[32m━━━━━━━━━━━━━━━━━━━━\u001b[0m\u001b[37m\u001b[0m \u001b[1m11s\u001b[0m 954ms/step - accuracy: 0.5859 - loss: 49.4190 - val_accuracy: 0.5674 - val_loss: 58.5223\n",
      "Epoch 8 / 20 ------->\n",
      "\u001b[1m10/10\u001b[0m \u001b[32m━━━━━━━━━━━━━━━━━━━━\u001b[0m\u001b[37m\u001b[0m \u001b[1m10s\u001b[0m 1s/step - accuracy: 0.6194 - loss: 47.0995 - val_accuracy: 0.6738 - val_loss: 22.9243\n",
      "Epoch 9 / 20 ------->\n",
      "\u001b[1m11/11\u001b[0m \u001b[32m━━━━━━━━━━━━━━━━━━━━\u001b[0m\u001b[37m\u001b[0m \u001b[1m11s\u001b[0m 963ms/step - accuracy: 0.7532 - loss: 15.1337 - val_accuracy: 0.8298 - val_loss: 14.7846\n",
      "Epoch 10 / 20 ------->\n",
      "\u001b[1m10/10\u001b[0m \u001b[32m━━━━━━━━━━━━━━━━━━━━\u001b[0m\u001b[37m\u001b[0m \u001b[1m10s\u001b[0m 1s/step - accuracy: 0.7025 - loss: 24.5440 - val_accuracy: 0.8085 - val_loss: 13.4714\n",
      "Epoch 11 / 20 ------->\n",
      "\u001b[1m11/11\u001b[0m \u001b[32m━━━━━━━━━━━━━━━━━━━━\u001b[0m\u001b[37m\u001b[0m \u001b[1m11s\u001b[0m 955ms/step - accuracy: 0.8834 - loss: 5.6890 - val_accuracy: 0.7660 - val_loss: 16.0172\n",
      "Epoch 12 / 20 ------->\n",
      "\u001b[1m10/10\u001b[0m \u001b[32m━━━━━━━━━━━━━━━━━━━━\u001b[0m\u001b[37m\u001b[0m \u001b[1m11s\u001b[0m 1s/step - accuracy: 0.9006 - loss: 3.2284 - val_accuracy: 0.8440 - val_loss: 11.1861\n",
      "Epoch 13 / 20 ------->\n",
      "\u001b[1m11/11\u001b[0m \u001b[32m━━━━━━━━━━━━━━━━━━━━\u001b[0m\u001b[37m\u001b[0m \u001b[1m11s\u001b[0m 959ms/step - accuracy: 0.9525 - loss: 2.2044 - val_accuracy: 0.8652 - val_loss: 7.9618\n",
      "Epoch 14 / 20 ------->\n",
      "\u001b[1m10/10\u001b[0m \u001b[32m━━━━━━━━━━━━━━━━━━━━\u001b[0m\u001b[37m\u001b[0m \u001b[1m10s\u001b[0m 1s/step - accuracy: 0.9479 - loss: 7.5163 - val_accuracy: 0.7447 - val_loss: 26.1073\n",
      "Epoch 15 / 20 ------->\n",
      "\u001b[1m11/11\u001b[0m \u001b[32m━━━━━━━━━━━━━━━━━━━━\u001b[0m\u001b[37m\u001b[0m \u001b[1m11s\u001b[0m 957ms/step - accuracy: 0.8450 - loss: 9.8697 - val_accuracy: 0.8582 - val_loss: 6.2502\n",
      "Epoch 16 / 20 ------->\n",
      "\u001b[1m10/10\u001b[0m \u001b[32m━━━━━━━━━━━━━━━━━━━━\u001b[0m\u001b[37m\u001b[0m \u001b[1m10s\u001b[0m 1s/step - accuracy: 0.9504 - loss: 1.0819 - val_accuracy: 0.8865 - val_loss: 6.7601\n",
      "Epoch 17 / 20 ------->\n",
      "\u001b[1m11/11\u001b[0m \u001b[32m━━━━━━━━━━━━━━━━━━━━\u001b[0m\u001b[37m\u001b[0m \u001b[1m11s\u001b[0m 966ms/step - accuracy: 0.9665 - loss: 2.4208 - val_accuracy: 0.6170 - val_loss: 80.0976\n",
      "Epoch 18 / 20 ------->\n",
      "\u001b[1m10/10\u001b[0m \u001b[32m━━━━━━━━━━━━━━━━━━━━\u001b[0m\u001b[37m\u001b[0m \u001b[1m10s\u001b[0m 1s/step - accuracy: 0.5883 - loss: 110.8138 - val_accuracy: 0.6525 - val_loss: 45.6492\n",
      "Epoch 19 / 20 ------->\n",
      "\u001b[1m11/11\u001b[0m \u001b[32m━━━━━━━━━━━━━━━━━━━━\u001b[0m\u001b[37m\u001b[0m \u001b[1m11s\u001b[0m 1s/step - accuracy: 0.7441 - loss: 25.5933 - val_accuracy: 0.8440 - val_loss: 9.8622\n",
      "Epoch 20 / 20 ------->\n",
      "\u001b[1m10/10\u001b[0m \u001b[32m━━━━━━━━━━━━━━━━━━━━\u001b[0m\u001b[37m\u001b[0m \u001b[1m10s\u001b[0m 1s/step - accuracy: 0.9288 - loss: 3.1833 - val_accuracy: 0.8156 - val_loss: 10.1345\n"
     ]
    }
   ],
   "source": [
    "epochs=20\n",
    "trainig_history=[]\n",
    "for epoch in range(epochs):\n",
    "    print(\"Epoch\",epoch+1,\"/\",epochs,\"------->\")\n",
    "    if epoch % 2 == 0:\n",
    "        # Using the first half of the dataset in even epochs\n",
    "        data = train_images1\n",
    "        labels = train_labels1\n",
    "        vdata = valid_images1\n",
    "        vlabel = valid_labels1\n",
    "    else:\n",
    "        # Using the second half of the dataset in odd epochs\n",
    "        data = train_images2\n",
    "        labels = train_labels2\n",
    "        vdata = valid_images2\n",
    "        vlabel = valid_labels2\n",
    "\n",
    "    # Training the model using the selected half of the dataset\n",
    "    h=vit.fit(data, labels, batch_size=32, epochs=1, validation_data=(vdata, vlabel))\n",
    "    trainig_history.append(h)"
   ]
  },
  {
   "cell_type": "code",
   "execution_count": 17,
   "metadata": {},
   "outputs": [
    {
     "data": {
      "image/png": "[encoded data removed]",
      "text/plain": [
       "<Figure size 640x480 with 1 Axes>"
      ]
     },
     "metadata": {},
     "output_type": "display_data"
    }
   ],
   "source": [
    "import matplotlib.pyplot as plt\n",
    "accu=[x.history['accuracy'] for x in trainig_history]\n",
    "val_accu=[x.history['val_accuracy'] for x in trainig_history]\n",
    "plt.plot(accu)\n",
    "plt.plot(val_accu)\n",
    "plt.title('Model Accuracy')\n",
    "plt.ylabel('Accuracy')\n",
    "plt.xlabel('Epoch')\n",
    "plt.legend(['Train','Validation'],loc='upper left')\n",
    "plt.ylim(0,1.5)\n",
    "plt.show()"
   ]
  },
  {
   "cell_type": "code",
   "execution_count": 18,
   "metadata": {},
   "outputs": [
    {
     "data": {
      "image/png": "[encoded data removed]",
      "text/plain": [
       "<Figure size 640x480 with 1 Axes>"
      ]
     },
     "metadata": {},
     "output_type": "display_data"
    }
   ],
   "source": [
    "loss=[x.history['loss'] for x in trainig_history]\n",
    "val_loss=[x.history['val_loss'] for x in trainig_history]\n",
    "plt.plot(loss)\n",
    "plt.plot(val_loss)\n",
    "plt.title('Model Loss')\n",
    "plt.ylabel('Loss')\n",
    "plt.xlabel('Epoch')\n",
    "plt.legend(['Train','Validation'],loc='upper left')\n",
    "plt.show()"
   ]
  },
  {
   "cell_type": "code",
   "execution_count": 19,
   "metadata": {},
   "outputs": [
    {
     "name": "stdout",
     "output_type": "stream",
     "text": [
      "\u001b[1m6/6\u001b[0m \u001b[32m━━━━━━━━━━━━━━━━━━━━\u001b[0m\u001b[37m\u001b[0m \u001b[1m2s\u001b[0m 293ms/step - accuracy: 0.8009 - loss: 29.2937\n"
     ]
    },
    {
     "data": {
      "text/plain": [
       "[26.10694122314453, 0.816216230392456]"
      ]
     },
     "execution_count": 19,
     "metadata": {},
     "output_type": "execute_result"
    }
   ],
   "source": [
    "processed_test_images = []\n",
    "for img_path in test_images:\n",
    "    img = load_img(img_path, target_size=size)\n",
    "    img_array = img_to_array(img)\n",
    "    processed_test_images.append(img_array)\n",
    "\n",
    "processed_test_images = np.array(processed_test_images)\n",
    "vit.evaluate(processed_test_images, np.array(test_labels))"
   ]
  },
  {
   "cell_type": "code",
   "execution_count": 20,
   "metadata": {},
   "outputs": [
    {
     "name": "stdout",
     "output_type": "stream",
     "text": [
      "\u001b[1m6/6\u001b[0m \u001b[32m━━━━━━━━━━━━━━━━━━━━\u001b[0m\u001b[37m\u001b[0m \u001b[1m3s\u001b[0m 396ms/step\n",
      "               precision    recall  f1-score   support\n",
      "\n",
      "Alluvial Soil       0.77      0.66      0.71        50\n",
      "   Black Soil       0.81      0.95      0.88        44\n",
      "    Clay Soil       0.64      0.60      0.62        30\n",
      "     Red Soil       0.94      0.95      0.94        61\n",
      "\n",
      "     accuracy                           0.82       185\n",
      "    macro avg       0.79      0.79      0.79       185\n",
      " weighted avg       0.81      0.82      0.81       185\n",
      "\n"
     ]
    }
   ],
   "source": [
    "from sklearn.metrics import confusion_matrix, accuracy_score\n",
    "import seaborn as sns\n",
    "from sklearn.metrics import classification_report\n",
    "\n",
    "processed_test_images = np.array(processed_test_images)\n",
    "predictions = np.argmax(vit.predict(processed_test_images), axis=1)\n",
    "\n",
    "# Display classification report\n",
    "class_report = classification_report(test_labels, predictions, target_names=classes)\n",
    "print(class_report)"
   ]
  },
  {
   "cell_type": "code",
   "execution_count": 21,
   "metadata": {},
   "outputs": [
    {
     "name": "stdout",
     "output_type": "stream",
     "text": [
      "Confusion Matrix:\n",
      "[[33  7  7  3]\n",
      " [ 0 42  2  0]\n",
      " [10  1 18  1]\n",
      " [ 0  2  1 58]]\n",
      "Accuracy for class Alluvial Soil: 63.24%\n",
      "Accuracy for class Black Soil: 95.68%\n",
      "Accuracy for class Clay Soil: 74.05%\n",
      "Accuracy for class Red Soil: 93.51%\n",
      "\n",
      "Overall Accuracy: 81.62%\n"
     ]
    }
   ],
   "source": [
    "conf_matrix = confusion_matrix(test_labels, predictions)\n",
    "print(\"Confusion Matrix:\")\n",
    "print(conf_matrix)\n",
    "\n",
    "# Calculate class-wise accuracy\n",
    "class_wise_accuracy = {}\n",
    "for i in range(len(classes)):\n",
    "    class_accuracy =  np.sum(conf_matrix[i, :]) - conf_matrix[i, i]\n",
    "    class_accuracy= 1 - (class_accuracy/np.sum(conf_matrix[:, :]))*4\n",
    "    class_wise_accuracy[classes[i]] = class_accuracy\n",
    "    print(f\"Accuracy for class {classes[i]}: {class_accuracy:.2%}\")\n",
    "\n",
    "# Overall accuracy\n",
    "overall_accuracy = accuracy_score(test_labels, predictions)\n",
    "print(f\"\\nOverall Accuracy: {overall_accuracy:.2%}\")"
   ]
  }
 ],
 "metadata": {
  "kernelspec": {
   "display_name": "Python 3",
   "language": "python",
   "name": "python3"
  },
  "language_info": {
   "codemirror_mode": {
    "name": "ipython",
    "version": 3
   },
   "file_extension": ".py",
   "mimetype": "text/x-python",
   "name": "python",
   "nbconvert_exporter": "python",
   "pygments_lexer": "ipython3",
   "version": "3.11.9"
  }
 },
 "nbformat": 4,
 "nbformat_minor": 2
}
