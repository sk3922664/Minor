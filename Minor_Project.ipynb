{
 "cells": [
  {
   "cell_type": "code",
   "execution_count": 1,
   "metadata": {},
   "outputs": [],
   "source": [
    "import tensorflow as tf\n",
    "import numpy as np\n",
    "import pandas as pd\n",
    "from tensorflow.keras.preprocessing.image import ImageDataGenerator, load_img, img_to_array\n",
    "import os\n",
    "from sklearn.model_selection import train_test_split"
   ]
  },
  {
   "cell_type": "code",
   "execution_count": 2,
   "metadata": {},
   "outputs": [],
   "source": [
    "class PatchEncoder(tf.keras.layers.Layer):\n",
    "    def __init__(self, no_of_patches, hidden_size):\n",
    "        super(PatchEncoder, self).__init__(name= \"patch_encoder\")\n",
    "        self.no_of_patches=no_of_patches\n",
    "        self.linear_projection= tf.keras.layers.Dense(hidden_size)\n",
    "        self.positonal_embedding= tf.keras.layers.Embedding(no_of_patches,hidden_size)\n",
    "    \n",
    "    def call(self, img):\n",
    "        patches=tf.image.extract_patches(images=img,\n",
    "                                 sizes=[1,16,16,1],\n",
    "                                 strides=[1,16,16,1],\n",
    "                                 rates=[1,1,1,1],\n",
    "                                 padding='VALID')\n",
    "                                 \n",
    "        patches=tf.reshape(patches,(tf.shape(patches)[0],-1,patches.shape[-1]))\n",
    "        embedding_input=tf.range(0,self.no_of_patches,1)\n",
    "        ans=self.linear_projection(patches)+self.positonal_embedding(embedding_input)\n",
    "        return ans"
   ]
  },
  {
   "cell_type": "code",
   "execution_count": 3,
   "metadata": {},
   "outputs": [],
   "source": [
    "class TransformerEncoder(tf.keras.layers.Layer):\n",
    "    def __init__(self, no_of_heads, hidden_size):\n",
    "        super(TransformerEncoder, self).__init__(name= \"transformer_encoder\")\n",
    "        self.layer_norm= tf.keras.layers.LayerNormalization()\n",
    "        self.multi_head_attention=tf.keras.layers.MultiHeadAttention(no_of_heads,hidden_size)\n",
    "        self.denselayer=tf.keras.layers.Dense(hidden_size, activation='gelu')\n",
    "    \n",
    "    def call(self, img):\n",
    "        x_1=self.layer_norm(img)\n",
    "        x_1=self.multi_head_attention(x_1,x_1)\n",
    "        x_1=tf.keras.layers.Add()([x_1,img])\n",
    "\n",
    "        x_2=self.layer_norm(x_1)\n",
    "        x_2=self.denselayer(x_2)\n",
    "        ans=self.denselayer(x_2)\n",
    "        ans=tf.keras.layers.Add()([ans,x_1])\n",
    "\n",
    "        return ans"
   ]
  },
  {
   "cell_type": "code",
   "execution_count": 4,
   "metadata": {},
   "outputs": [],
   "source": [
    "class VisT(tf.keras.Model):\n",
    "    def __init__(self, no_of_heads, hidden_size, no_of_patches, no_of_layers,no_of_dense_units):\n",
    "        super(VisT,self).__init__(name= 'vision_transformer')\n",
    "        self.no_of_layers=no_of_layers\n",
    "        self.patch_encoder=PatchEncoder(no_of_patches,hidden_size)\n",
    "        self.transformer_encoder=[TransformerEncoder(no_of_heads, hidden_size) for _ in range(no_of_layers)]\n",
    "        self.densel=tf.keras.layers.Dense(no_of_dense_units, \"gelu\")\n",
    "        self.densel2=tf.keras.layers.Dense(64, \"gelu\")\n",
    "        self.densel3=tf.keras.layers.Dense(32, \"gelu\")\n",
    "        self.denselO=tf.keras.layers.Dense(10, \"softmax\")\n",
    "    \n",
    "    def call(self, data, training=True):\n",
    "        if isinstance(data, tuple):\n",
    "            img, _ = data  # Extract only the images from the generator output\n",
    "        else:\n",
    "            img = data\n",
    "\n",
    "        # Ensure the correct shape of the input tensor\n",
    "        img = tf.image.resize(img, (256, 256))  # Resize the image to match the expected size\n",
    "        img = tf.reshape(img, (tf.shape(img)[0], 256, 256, 3))  # Explicitly reshape to (batch_size, height, width, channels)\n",
    "\n",
    "        inp = self.patch_encoder(img)\n",
    "\n",
    "        for i in range(self.no_of_layers):\n",
    "            inp = self.transformer_encoder[i](inp)\n",
    "\n",
    "        inp = tf.keras.layers.Flatten()(inp)\n",
    "        inp = self.densel(inp)\n",
    "        inp = self.densel2(inp)\n",
    "        inp = self.densel3(inp)\n",
    "        return self.denselO(inp)"
   ]
  },
  {
   "cell_type": "code",
   "execution_count": 17,
   "metadata": {},
   "outputs": [],
   "source": [
    "path = 'test_Minor'\n",
    "size = [256, 256]\n",
    "classes = ['Alluvial Soil', 'Black Soil', 'Clay Soil',\"Red Soil\"]"
   ]
  },
  {
   "cell_type": "code",
   "execution_count": 36,
   "metadata": {},
   "outputs": [],
   "source": [
    "all_images = []\n",
    "all_labels = []\n",
    "\n",
    "for class_index, class_name in enumerate(classes):\n",
    "    class_path = os.path.join(path, class_name)\n",
    "    for filename in os.listdir(class_path):\n",
    "        img_path = os.path.join(class_path, filename)\n",
    "        all_images.append(img_path)\n",
    "        all_labels.append(class_index)"
   ]
  },
  {
   "cell_type": "code",
   "execution_count": 37,
   "metadata": {},
   "outputs": [],
   "source": [
    "train_images, test_images, train_labels, test_labels = train_test_split(\n",
    "    all_images, all_labels, test_size=0.5, random_state=12\n",
    ")"
   ]
  },
  {
   "cell_type": "code",
   "execution_count": 38,
   "metadata": {},
   "outputs": [],
   "source": [
    "datagen_training_augmentation = ImageDataGenerator(\n",
    "    shear_range=0.2,\n",
    "    horizontal_flip=True,\n",
    "    rotation_range=60\n",
    ")"
   ]
  },
  {
   "cell_type": "code",
   "execution_count": 39,
   "metadata": {},
   "outputs": [
    {
     "name": "stdout",
     "output_type": "stream",
     "text": [
      "W 0\n",
      "W 1\n",
      "W 2\n",
      "W 3\n",
      "W 4\n"
     ]
    }
   ],
   "source": [
    "augmented_images = []\n",
    "augmented_labels = []\n",
    "\n",
    "for i in range(5):  \n",
    "    for img_path, label in zip(train_images, train_labels):\n",
    "        rotation_angle = np.random.uniform(-60, 60)  \n",
    "        img = load_img(img_path, target_size=size)\n",
    "        img_array = img_to_array(img)\n",
    "        img_array = datagen_training_augmentation.apply_transform(img_array, {'theta': rotation_angle})\n",
    "        augmented_images.append(img_array)\n",
    "        augmented_labels.append(label)\n",
    "    print(\"W\",i)"
   ]
  },
  {
   "cell_type": "code",
   "execution_count": 40,
   "metadata": {},
   "outputs": [],
   "source": [
    "train_images1 = np.array(augmented_images[0:int(len(augmented_images)*0.35)])\n",
    "train_labels1 = np.array(augmented_labels[0:int(len(augmented_images)*0.35)])\n",
    "augmented_images=augmented_images[int(len(augmented_images)*0.35):]\n",
    "augmented_labels=augmented_labels[int(len(augmented_labels)*0.35):]\n",
    "augmented_images = np.array(augmented_images)\n",
    "augmented_labels = np.array(augmented_labels)"
   ]
  },
  {
   "cell_type": "code",
   "execution_count": 41,
   "metadata": {},
   "outputs": [],
   "source": [
    "train_images2, valid_images, train_labels2, valid_labels = train_test_split(\n",
    "    augmented_images, augmented_labels, test_size=0.47, random_state=42\n",
    ")"
   ]
  },
  {
   "cell_type": "code",
   "execution_count": 42,
   "metadata": {},
   "outputs": [],
   "source": [
    "del augmented_images\n",
    "del augmented_labels"
   ]
  },
  {
   "cell_type": "code",
   "execution_count": 43,
   "metadata": {},
   "outputs": [],
   "source": [
    "valid_images1, valid_images2, valid_labels1, valid_labels2=train_test_split(\n",
    "    valid_images, valid_labels, test_size=0.5, random_state=42\n",
    ")"
   ]
  },
  {
   "cell_type": "code",
   "execution_count": 44,
   "metadata": {},
   "outputs": [],
   "source": [
    "vit = VisT(2, 256, 256, 2, 64)\n",
    "vit.compile(optimizer=\"Adam\", loss=tf.keras.losses.SparseCategoricalCrossentropy(), metrics=[\"accuracy\"])"
   ]
  },
  {
   "cell_type": "code",
   "execution_count": 45,
   "metadata": {},
   "outputs": [
    {
     "name": "stdout",
     "output_type": "stream",
     "text": [
      "Epoch 1 / 20 ------->\n",
      "\u001b[1m10/10\u001b[0m \u001b[32m━━━━━━━━━━━━━━━━━━━━\u001b[0m\u001b[37m\u001b[0m \u001b[1m16s\u001b[0m 1s/step - accuracy: 0.0837 - loss: 785.8535 - val_accuracy: 0.5039 - val_loss: 385.6119\n",
      "Epoch 2 / 20 ------->\n",
      "\u001b[1m9/9\u001b[0m \u001b[32m━━━━━━━━━━━━━━━━━━━━\u001b[0m\u001b[37m\u001b[0m \u001b[1m9s\u001b[0m 1s/step - accuracy: 0.3874 - loss: 456.3470 - val_accuracy: 0.4567 - val_loss: 891.2032\n",
      "Epoch 3 / 20 ------->\n",
      "\u001b[1m10/10\u001b[0m \u001b[32m━━━━━━━━━━━━━━━━━━━━\u001b[0m\u001b[37m\u001b[0m \u001b[1m9s\u001b[0m 894ms/step - accuracy: 0.3438 - loss: 584.3327 - val_accuracy: 0.3465 - val_loss: 501.2964\n",
      "Epoch 4 / 20 ------->\n",
      "\u001b[1m9/9\u001b[0m \u001b[32m━━━━━━━━━━━━━━━━━━━━\u001b[0m\u001b[37m\u001b[0m \u001b[1m9s\u001b[0m 981ms/step - accuracy: 0.2962 - loss: 990.0624 - val_accuracy: 0.5748 - val_loss: 310.0756\n",
      "Epoch 5 / 20 ------->\n",
      "\u001b[1m10/10\u001b[0m \u001b[32m━━━━━━━━━━━━━━━━━━━━\u001b[0m\u001b[37m\u001b[0m \u001b[1m9s\u001b[0m 882ms/step - accuracy: 0.4286 - loss: 602.5257 - val_accuracy: 0.4724 - val_loss: 295.0963\n",
      "Epoch 6 / 20 ------->\n",
      "\u001b[1m9/9\u001b[0m \u001b[32m━━━━━━━━━━━━━━━━━━━━\u001b[0m\u001b[37m\u001b[0m \u001b[1m9s\u001b[0m 995ms/step - accuracy: 0.5157 - loss: 249.2988 - val_accuracy: 0.3543 - val_loss: 362.8998\n",
      "Epoch 7 / 20 ------->\n",
      "\u001b[1m10/10\u001b[0m \u001b[32m━━━━━━━━━━━━━━━━━━━━\u001b[0m\u001b[37m\u001b[0m \u001b[1m9s\u001b[0m 905ms/step - accuracy: 0.5157 - loss: 262.6604 - val_accuracy: 0.7008 - val_loss: 80.1731\n",
      "Epoch 8 / 20 ------->\n",
      "\u001b[1m9/9\u001b[0m \u001b[32m━━━━━━━━━━━━━━━━━━━━\u001b[0m\u001b[37m\u001b[0m \u001b[1m9s\u001b[0m 974ms/step - accuracy: 0.7058 - loss: 51.3439 - val_accuracy: 0.8346 - val_loss: 30.5465\n",
      "Epoch 9 / 20 ------->\n",
      "\u001b[1m10/10\u001b[0m \u001b[32m━━━━━━━━━━━━━━━━━━━━\u001b[0m\u001b[37m\u001b[0m \u001b[1m9s\u001b[0m 874ms/step - accuracy: 0.7872 - loss: 34.1367 - val_accuracy: 0.5984 - val_loss: 157.1701\n",
      "Epoch 10 / 20 ------->\n",
      "\u001b[1m9/9\u001b[0m \u001b[32m━━━━━━━━━━━━━━━━━━━━\u001b[0m\u001b[37m\u001b[0m \u001b[1m9s\u001b[0m 994ms/step - accuracy: 0.5491 - loss: 138.5930 - val_accuracy: 0.5906 - val_loss: 189.1574\n",
      "Epoch 11 / 20 ------->\n",
      "\u001b[1m10/10\u001b[0m \u001b[32m━━━━━━━━━━━━━━━━━━━━\u001b[0m\u001b[37m\u001b[0m \u001b[1m9s\u001b[0m 874ms/step - accuracy: 0.6326 - loss: 97.3850 - val_accuracy: 0.7795 - val_loss: 30.1427\n",
      "Epoch 12 / 20 ------->\n",
      "\u001b[1m9/9\u001b[0m \u001b[32m━━━━━━━━━━━━━━━━━━━━\u001b[0m\u001b[37m\u001b[0m \u001b[1m9s\u001b[0m 964ms/step - accuracy: 0.8375 - loss: 22.2147 - val_accuracy: 0.8031 - val_loss: 53.6709\n",
      "Epoch 13 / 20 ------->\n",
      "\u001b[1m10/10\u001b[0m \u001b[32m━━━━━━━━━━━━━━━━━━━━\u001b[0m\u001b[37m\u001b[0m \u001b[1m9s\u001b[0m 924ms/step - accuracy: 0.8070 - loss: 26.0638 - val_accuracy: 0.8583 - val_loss: 22.3084\n",
      "Epoch 14 / 20 ------->\n",
      "\u001b[1m9/9\u001b[0m \u001b[32m━━━━━━━━━━━━━━━━━━━━\u001b[0m\u001b[37m\u001b[0m \u001b[1m9s\u001b[0m 978ms/step - accuracy: 0.8742 - loss: 12.9925 - val_accuracy: 0.8740 - val_loss: 18.2636\n",
      "Epoch 15 / 20 ------->\n",
      "\u001b[1m10/10\u001b[0m \u001b[32m━━━━━━━━━━━━━━━━━━━━\u001b[0m\u001b[37m\u001b[0m \u001b[1m9s\u001b[0m 884ms/step - accuracy: 0.9070 - loss: 6.9389 - val_accuracy: 0.8661 - val_loss: 17.2436\n",
      "Epoch 16 / 20 ------->\n",
      "\u001b[1m9/9\u001b[0m \u001b[32m━━━━━━━━━━━━━━━━━━━━\u001b[0m\u001b[37m\u001b[0m \u001b[1m9s\u001b[0m 994ms/step - accuracy: 0.9312 - loss: 5.4164 - val_accuracy: 0.8346 - val_loss: 21.7574\n",
      "Epoch 17 / 20 ------->\n",
      "\u001b[1m10/10\u001b[0m \u001b[32m━━━━━━━━━━━━━━━━━━━━\u001b[0m\u001b[37m\u001b[0m \u001b[1m9s\u001b[0m 878ms/step - accuracy: 0.8928 - loss: 7.1520 - val_accuracy: 0.8898 - val_loss: 14.5870\n",
      "Epoch 18 / 20 ------->\n",
      "\u001b[1m9/9\u001b[0m \u001b[32m━━━━━━━━━━━━━━━━━━━━\u001b[0m\u001b[37m\u001b[0m \u001b[1m9s\u001b[0m 964ms/step - accuracy: 0.8980 - loss: 10.2183 - val_accuracy: 0.8189 - val_loss: 23.9453\n",
      "Epoch 19 / 20 ------->\n",
      "\u001b[1m10/10\u001b[0m \u001b[32m━━━━━━━━━━━━━━━━━━━━\u001b[0m\u001b[37m\u001b[0m \u001b[1m9s\u001b[0m 875ms/step - accuracy: 0.8822 - loss: 8.0735 - val_accuracy: 0.8819 - val_loss: 8.7710\n",
      "Epoch 20 / 20 ------->\n",
      "\u001b[1m9/9\u001b[0m \u001b[32m━━━━━━━━━━━━━━━━━━━━\u001b[0m\u001b[37m\u001b[0m \u001b[1m9s\u001b[0m 971ms/step - accuracy: 0.9643 - loss: 1.9077 - val_accuracy: 0.8819 - val_loss: 9.3903\n"
     ]
    }
   ],
   "source": [
    "epochs=20\n",
    "trainig_history=[]\n",
    "for epoch in range(epochs):\n",
    "    print(\"Epoch\",epoch+1,\"/\",epochs,\"------->\")\n",
    "    if epoch % 2 == 0:\n",
    "        # Using the first half of the dataset in even epochs\n",
    "        data = train_images1\n",
    "        labels = train_labels1\n",
    "        vdata = valid_images1\n",
    "        vlabel = valid_labels1\n",
    "    else:\n",
    "        # Using the second half of the dataset in odd epochs\n",
    "        data = train_images2\n",
    "        labels = train_labels2\n",
    "        vdata = valid_images2\n",
    "        vlabel = valid_labels2\n",
    "\n",
    "    # Training the model using the selected half of the dataset\n",
    "    h=vit.fit(data, labels, batch_size=32, epochs=1, validation_data=(vdata, vlabel))\n",
    "    trainig_history.append(h)"
   ]
  },
  {
   "cell_type": "code",
   "execution_count": 46,
   "metadata": {},
   "outputs": [
    {
     "data": {
      "image/png": "[encoded data removed]",
      "text/plain": [
       "<Figure size 640x480 with 1 Axes>"
      ]
     },
     "metadata": {},
     "output_type": "display_data"
    }
   ],
   "source": [
    "import matplotlib.pyplot as plt\n",
    "accu=[x.history['accuracy'] for x in trainig_history]\n",
    "val_accu=[x.history['val_accuracy'] for x in trainig_history]\n",
    "plt.plot(accu)\n",
    "plt.plot(val_accu)\n",
    "plt.title('Model Accuracy')\n",
    "plt.ylabel('Accuracy')\n",
    "plt.xlabel('Epoch')\n",
    "plt.legend(['Train','Validation'],loc='upper left')\n",
    "plt.ylim(0,1.5)\n",
    "plt.show()"
   ]
  },
  {
   "cell_type": "code",
   "execution_count": 47,
   "metadata": {},
   "outputs": [
    {
     "data": {
      "image/png": "[encoded data removed]",
      "text/plain": [
       "<Figure size 640x480 with 1 Axes>"
      ]
     },
     "metadata": {},
     "output_type": "display_data"
    }
   ],
   "source": [
    "loss=[x.history['loss'] for x in trainig_history]\n",
    "val_loss=[x.history['val_loss'] for x in trainig_history]\n",
    "plt.plot(loss)\n",
    "plt.plot(val_loss)\n",
    "plt.title('Model Loss')\n",
    "plt.ylabel('Loss')\n",
    "plt.xlabel('Epoch')\n",
    "plt.legend(['Train','Validation'],loc='upper left')\n",
    "plt.show()"
   ]
  },
  {
   "cell_type": "code",
   "execution_count": 48,
   "metadata": {},
   "outputs": [
    {
     "name": "stdout",
     "output_type": "stream",
     "text": [
      "\u001b[1m6/6\u001b[0m \u001b[32m━━━━━━━━━━━━━━━━━━━━\u001b[0m\u001b[37m\u001b[0m \u001b[1m2s\u001b[0m 262ms/step - accuracy: 0.7371 - loss: 19.1414\n"
     ]
    },
    {
     "data": {
      "text/plain": [
       "[20.345687866210938, 0.7349397540092468]"
      ]
     },
     "execution_count": 48,
     "metadata": {},
     "output_type": "execute_result"
    }
   ],
   "source": [
    "processed_test_images = []\n",
    "for img_path in test_images:\n",
    "    img = load_img(img_path, target_size=size)\n",
    "    img_array = img_to_array(img)\n",
    "    processed_test_images.append(img_array)\n",
    "\n",
    "processed_test_images = np.array(processed_test_images)\n",
    "vit.evaluate(processed_test_images, np.array(test_labels))"
   ]
  },
  {
   "cell_type": "code",
   "execution_count": 49,
   "metadata": {},
   "outputs": [
    {
     "name": "stdout",
     "output_type": "stream",
     "text": [
      "\u001b[1m6/6\u001b[0m \u001b[32m━━━━━━━━━━━━━━━━━━━━\u001b[0m\u001b[37m\u001b[0m \u001b[1m2s\u001b[0m 297ms/step\n",
      "               precision    recall  f1-score   support\n",
      "\n",
      "Alluvial Soil       0.23      0.18      0.20        28\n",
      "   Black Soil       0.92      0.87      0.89        52\n",
      "    Clay Soil       0.52      0.52      0.52        25\n",
      "     Red Soil       0.84      0.97      0.90        61\n",
      "\n",
      "     accuracy                           0.73       166\n",
      "    macro avg       0.63      0.63      0.63       166\n",
      " weighted avg       0.71      0.73      0.72       166\n",
      "\n"
     ]
    }
   ],
   "source": [
    "from sklearn.metrics import confusion_matrix, accuracy_score\n",
    "import seaborn as sns\n",
    "from sklearn.metrics import classification_report\n",
    "\n",
    "processed_test_images = np.array(processed_test_images)\n",
    "predictions = np.argmax(vit.predict(processed_test_images), axis=1)\n",
    "\n",
    "# Display classification report\n",
    "class_report = classification_report(test_labels, predictions, target_names=classes)\n",
    "print(class_report)"
   ]
  },
  {
   "cell_type": "code",
   "execution_count": 50,
   "metadata": {},
   "outputs": [
    {
     "name": "stdout",
     "output_type": "stream",
     "text": [
      "Confusion Matrix:\n",
      "[[ 5  3 12  8]\n",
      " [ 7 45  0  0]\n",
      " [ 8  1 13  3]\n",
      " [ 2  0  0 59]]\n",
      "Accuracy for class Alluvial Soil: 44.58%\n",
      "Accuracy for class Black Soil: 83.13%\n",
      "Accuracy for class Clay Soil: 71.08%\n",
      "Accuracy for class Red Soil: 95.18%\n",
      "\n",
      "Overall Accuracy: 73.49%\n"
     ]
    }
   ],
   "source": [
    "conf_matrix = confusion_matrix(test_labels, predictions)\n",
    "print(\"Confusion Matrix:\")\n",
    "print(conf_matrix)\n",
    "\n",
    "# Calculate class-wise accuracy\n",
    "class_wise_accuracy = {}\n",
    "for i in range(len(classes)):\n",
    "    class_accuracy =  np.sum(conf_matrix[i, :]) - conf_matrix[i, i]\n",
    "    class_accuracy= 1 - (class_accuracy/np.sum(conf_matrix[:, :]))*4\n",
    "    class_wise_accuracy[classes[i]] = class_accuracy\n",
    "    print(f\"Accuracy for class {classes[i]}: {class_accuracy:.2%}\")\n",
    "\n",
    "# Overall accuracy\n",
    "overall_accuracy = accuracy_score(test_labels, predictions)\n",
    "print(f\"\\nOverall Accuracy: {overall_accuracy:.2%}\")"
   ]
  }
 ],
 "metadata": {
  "kernelspec": {
   "display_name": "Python 3",
   "language": "python",
   "name": "python3"
  },
  "language_info": {
   "codemirror_mode": {
    "name": "ipython",
    "version": 3
   },
   "file_extension": ".py",
   "mimetype": "text/x-python",
   "name": "python",
   "nbconvert_exporter": "python",
   "pygments_lexer": "ipython3",
   "version": "3.11.9"
  }
 },
 "nbformat": 4,
 "nbformat_minor": 2
}
